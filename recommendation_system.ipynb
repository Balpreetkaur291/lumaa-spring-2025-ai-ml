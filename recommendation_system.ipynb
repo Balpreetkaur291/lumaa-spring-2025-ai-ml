{
  "nbformat": 4,
  "nbformat_minor": 0,
  "metadata": {
    "colab": {
      "provenance": []
    },
    "kernelspec": {
      "name": "python3",
      "display_name": "Python 3"
    },
    "language_info": {
      "name": "python"
    }
  },
  "cells": [
    {
      "cell_type": "code",
      "source": [
        "import pandas as pd\n",
        "import numpy as np\n",
        "import nltk\n",
        "from sklearn.feature_extraction.text import TfidfVectorizer\n",
        "from sklearn.metrics.pairwise import cosine_similarity"
      ],
      "metadata": {
        "id": "PRoYO2vi5z-p"
      },
      "execution_count": 29,
      "outputs": []
    },
    {
      "cell_type": "code",
      "source": [
        "# Loading the dataset\n",
        "df = pd.read_csv(\"/content/Top_1000_IMDb_movies_New_version.csv\")"
      ],
      "metadata": {
        "id": "84IN6vzs5-Ox"
      },
      "execution_count": 30,
      "outputs": []
    },
    {
      "cell_type": "code",
      "source": [
        "print(df.shape)"
      ],
      "metadata": {
        "colab": {
          "base_uri": "https://localhost:8080/"
        },
        "id": "l951aWyc7PFt",
        "outputId": "670d4b5b-d1d3-44f0-c293-2baeced8044f"
      },
      "execution_count": 31,
      "outputs": [
        {
          "output_type": "stream",
          "name": "stdout",
          "text": [
            "(1000, 9)\n"
          ]
        }
      ]
    },
    {
      "cell_type": "code",
      "source": [
        "#Keeping the relevant column\n",
        "df = df[['Movie Name', 'Description']].dropna()"
      ],
      "metadata": {
        "id": "GPU_VVUV6B7y"
      },
      "execution_count": 32,
      "outputs": []
    },
    {
      "cell_type": "code",
      "source": [
        "def recommend_movies(user_input, top_n=5):\n",
        "\n",
        "    docs = df['Description'].tolist()\n",
        "    docs.insert(0, user_input)  # Add user query into document\n",
        "\n",
        "    vectorizer = TfidfVectorizer(stop_words='english')    # Vectorizing using TF-IDF\n",
        "    tfidf_matrix = vectorizer.fit_transform(docs)\n",
        "\n",
        "\n",
        "    cosine_sim = cosine_similarity(tfidf_matrix[0], tfidf_matrix[1:]) #calculating similarity score using cosine_similarity\n",
        "\n",
        "\n",
        "    similar_indices = cosine_sim.argsort()[0][-top_n:][::-1]\n",
        "    similarity_scores = cosine_sim[0][similar_indices]\n",
        "    recommendations = df.iloc[similar_indices].copy()\n",
        "    recommendations['Similarity Score'] = similarity_scores\n",
        "\n",
        "    return recommendations[['Movie Name', 'Description', 'Similarity Score']]"
      ],
      "metadata": {
        "id": "Loa5Jzmv6H85"
      },
      "execution_count": 33,
      "outputs": []
    },
    {
      "cell_type": "code",
      "source": [
        "user_query = \"I love thrilling action movies set in space, with a comedic twist.\"\n",
        "recommended_movies = recommend_movies(user_query, top_n=5)"
      ],
      "metadata": {
        "id": "VrXCbODz4GJ4"
      },
      "execution_count": 34,
      "outputs": []
    },
    {
      "cell_type": "code",
      "source": [
        "#Displaying the output:\n",
        "pd.set_option('display.max_colwidth', None)\n",
        "print(\"\\nRecommended Movies:\\n\")\n",
        "for rank, (index, row) in enumerate(recommended_movies.iterrows(), start=1):\n",
        "    print(f\"Rank: {rank}\\nMovie: {row['Movie Name']}\\nSimilarity Score: {row['Similarity Score']:.4f}\\nDescription: {row['Description']}\\n{'-'*80}\")"
      ],
      "metadata": {
        "colab": {
          "base_uri": "https://localhost:8080/"
        },
        "id": "GZv0bOtn5S_B",
        "outputId": "d906b8fe-fad6-470e-8439-bc83aa6f6a45"
      },
      "execution_count": 35,
      "outputs": [
        {
          "output_type": "stream",
          "name": "stdout",
          "text": [
            "\n",
            "Recommended Movies:\n",
            "\n",
            "Rank: 1\n",
            "Movie: Amarcord\n",
            "Similarity Score: 0.2256\n",
            "Description: A series of comedic and nostalgic vignettes set in a 1930s Italian coastal town.\n",
            "--------------------------------------------------------------------------------\n",
            "Rank: 2\n",
            "Movie: The Man Who Would Be King\n",
            "Similarity Score: 0.1249\n",
            "Description: Two former British soldiers in 1880s India decide to set themselves up as Kings in Kafiristan, a land where no white man has set foot since Alexander the Great.\n",
            "--------------------------------------------------------------------------------\n",
            "Rank: 3\n",
            "Movie: Gravity\n",
            "Similarity Score: 0.1190\n",
            "Description: Two astronauts work together to survive after an accident leaves them stranded in space.\n",
            "--------------------------------------------------------------------------------\n",
            "Rank: 4\n",
            "Movie: The Incredibles\n",
            "Similarity Score: 0.1113\n",
            "Description: While trying to lead a quiet suburban life, a family of undercover superheroes are forced into action to save the world.\n",
            "--------------------------------------------------------------------------------\n",
            "Rank: 5\n",
            "Movie: Barton Fink\n",
            "Similarity Score: 0.1089\n",
            "Description: A renowned New York playwright is enticed to California to write for the movies and discovers the hellish truth of Hollywood.\n",
            "--------------------------------------------------------------------------------\n"
          ]
        }
      ]
    },
    {
      "cell_type": "markdown",
      "source": [
        "## Salary expectation per month\n",
        "   USD 1600-2000/month"
      ],
      "metadata": {
        "id": "3OXwAOmf_bOG"
      }
    }
  ]
}